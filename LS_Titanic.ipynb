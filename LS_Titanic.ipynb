{
 "cells": [
  {
   "cell_type": "code",
   "execution_count": null,
   "id": "13fd5246",
   "metadata": {
    "_cell_guid": "b1076dfc-b9ad-4769-8c92-a6c4dae69d19",
    "_uuid": "8f2839f25d086af736a60e9eeb907d3b93b6e0e5",
    "execution": {
     "iopub.execute_input": "2022-06-07T21:16:05.718894Z",
     "iopub.status.busy": "2022-06-07T21:16:05.717601Z",
     "iopub.status.idle": "2022-06-07T21:16:05.731693Z",
     "shell.execute_reply": "2022-06-07T21:16:05.732255Z",
     "shell.execute_reply.started": "2022-04-04T19:40:34.778942Z"
    },
    "papermill": {
     "duration": 0.028891,
     "end_time": "2022-06-07T21:16:05.732577",
     "exception": false,
     "start_time": "2022-06-07T21:16:05.703686",
     "status": "completed"
    },
    "tags": []
   },
   "outputs": [],
   "source": [
    "# This Python 3 environment comes with many helpful analytics libraries installed\n",
    "# It is defined by the kaggle/python Docker image: https://github.com/kaggle/docker-python\n",
    "# For example, here's several helpful packages to load\n",
    "\n",
    "import numpy as np # linear algebra\n",
    "import pandas as pd # data processing, CSV file I/O (e.g. pd.read_csv)\n",
    "import matplotlib.pyplot as plt\n",
    "\n",
    "# Input data files are available in the read-only \"../input/\" directory\n",
    "# For example, running this (by clicking run or pressing Shift+Enter) will list all files under the input directory\n",
    "\n",
    "import os\n",
    "for dirname, _, filenames in os.walk('/kaggle/input'):\n",
    "    for filename in filenames:\n",
    "        print(os.path.join(dirname, filename))\n",
    "\n",
    "# You can write up to 20GB to the current directory (/kaggle/working/) that gets preserved as output when you create a version using \"Save & Run All\" \n",
    "# You can also write temporary files to /kaggle/temp/, but they won't be saved outside of the current session"
   ]
  },
  {
   "cell_type": "code",
   "execution_count": 4,
   "id": "49e7785d",
   "metadata": {
    "execution": {
     "iopub.execute_input": "2022-06-07T21:16:05.758710Z",
     "iopub.status.busy": "2022-06-07T21:16:05.757899Z",
     "iopub.status.idle": "2022-06-07T21:16:05.793043Z",
     "shell.execute_reply": "2022-06-07T21:16:05.793544Z",
     "shell.execute_reply.started": "2022-04-04T19:40:37.43559Z"
    },
    "papermill": {
     "duration": 0.050514,
     "end_time": "2022-06-07T21:16:05.793725",
     "exception": false,
     "start_time": "2022-06-07T21:16:05.743211",
     "status": "completed"
    },
    "tags": []
   },
   "outputs": [],
   "source": [
    "# train_data = pd.read_csv(\"/kaggle/input/titanic/train.csv\")\n",
    "# test_data = pd.read_csv(\"/kaggle/input/titanic/test.csv\")\n",
    "\n",
    "train_data = pd.read_csv(\"/Users/ingluissantana/Desktop/Py/all_data/titanic_train.csv\")\n",
    "test_data = pd.read_csv(\"/Users/ingluissantana/Desktop/Py/all_data/titanic_test.csv\")\n",
    "\n"
   ]
  },
  {
   "cell_type": "code",
   "execution_count": 5,
   "id": "c4fbc312",
   "metadata": {
    "execution": {
     "iopub.execute_input": "2022-06-07T21:16:05.818232Z",
     "iopub.status.busy": "2022-06-07T21:16:05.817590Z",
     "iopub.status.idle": "2022-06-07T21:16:05.847691Z",
     "shell.execute_reply": "2022-06-07T21:16:05.847147Z",
     "shell.execute_reply.started": "2022-04-04T19:40:40.555769Z"
    },
    "papermill": {
     "duration": 0.043334,
     "end_time": "2022-06-07T21:16:05.847828",
     "exception": false,
     "start_time": "2022-06-07T21:16:05.804494",
     "status": "completed"
    },
    "tags": []
   },
   "outputs": [
    {
     "data": {
      "text/html": [
       "<div>\n",
       "<style scoped>\n",
       "    .dataframe tbody tr th:only-of-type {\n",
       "        vertical-align: middle;\n",
       "    }\n",
       "\n",
       "    .dataframe tbody tr th {\n",
       "        vertical-align: top;\n",
       "    }\n",
       "\n",
       "    .dataframe thead th {\n",
       "        text-align: right;\n",
       "    }\n",
       "</style>\n",
       "<table border=\"1\" class=\"dataframe\">\n",
       "  <thead>\n",
       "    <tr style=\"text-align: right;\">\n",
       "      <th></th>\n",
       "      <th>PassengerId</th>\n",
       "      <th>Survived</th>\n",
       "      <th>Pclass</th>\n",
       "      <th>Name</th>\n",
       "      <th>Sex</th>\n",
       "      <th>Age</th>\n",
       "      <th>SibSp</th>\n",
       "      <th>Parch</th>\n",
       "      <th>Ticket</th>\n",
       "      <th>Fare</th>\n",
       "      <th>Cabin</th>\n",
       "      <th>Embarked</th>\n",
       "    </tr>\n",
       "  </thead>\n",
       "  <tbody>\n",
       "    <tr>\n",
       "      <th>0</th>\n",
       "      <td>1</td>\n",
       "      <td>0</td>\n",
       "      <td>3</td>\n",
       "      <td>Braund, Mr. Owen Harris</td>\n",
       "      <td>male</td>\n",
       "      <td>22.0</td>\n",
       "      <td>1</td>\n",
       "      <td>0</td>\n",
       "      <td>A/5 21171</td>\n",
       "      <td>7.2500</td>\n",
       "      <td>NaN</td>\n",
       "      <td>S</td>\n",
       "    </tr>\n",
       "    <tr>\n",
       "      <th>1</th>\n",
       "      <td>2</td>\n",
       "      <td>1</td>\n",
       "      <td>1</td>\n",
       "      <td>Cumings, Mrs. John Bradley (Florence Briggs Th...</td>\n",
       "      <td>female</td>\n",
       "      <td>38.0</td>\n",
       "      <td>1</td>\n",
       "      <td>0</td>\n",
       "      <td>PC 17599</td>\n",
       "      <td>71.2833</td>\n",
       "      <td>C85</td>\n",
       "      <td>C</td>\n",
       "    </tr>\n",
       "    <tr>\n",
       "      <th>2</th>\n",
       "      <td>3</td>\n",
       "      <td>1</td>\n",
       "      <td>3</td>\n",
       "      <td>Heikkinen, Miss. Laina</td>\n",
       "      <td>female</td>\n",
       "      <td>26.0</td>\n",
       "      <td>0</td>\n",
       "      <td>0</td>\n",
       "      <td>STON/O2. 3101282</td>\n",
       "      <td>7.9250</td>\n",
       "      <td>NaN</td>\n",
       "      <td>S</td>\n",
       "    </tr>\n",
       "    <tr>\n",
       "      <th>3</th>\n",
       "      <td>4</td>\n",
       "      <td>1</td>\n",
       "      <td>1</td>\n",
       "      <td>Futrelle, Mrs. Jacques Heath (Lily May Peel)</td>\n",
       "      <td>female</td>\n",
       "      <td>35.0</td>\n",
       "      <td>1</td>\n",
       "      <td>0</td>\n",
       "      <td>113803</td>\n",
       "      <td>53.1000</td>\n",
       "      <td>C123</td>\n",
       "      <td>S</td>\n",
       "    </tr>\n",
       "    <tr>\n",
       "      <th>4</th>\n",
       "      <td>5</td>\n",
       "      <td>0</td>\n",
       "      <td>3</td>\n",
       "      <td>Allen, Mr. William Henry</td>\n",
       "      <td>male</td>\n",
       "      <td>35.0</td>\n",
       "      <td>0</td>\n",
       "      <td>0</td>\n",
       "      <td>373450</td>\n",
       "      <td>8.0500</td>\n",
       "      <td>NaN</td>\n",
       "      <td>S</td>\n",
       "    </tr>\n",
       "  </tbody>\n",
       "</table>\n",
       "</div>"
      ],
      "text/plain": [
       "   PassengerId  Survived  Pclass  \\\n",
       "0            1         0       3   \n",
       "1            2         1       1   \n",
       "2            3         1       3   \n",
       "3            4         1       1   \n",
       "4            5         0       3   \n",
       "\n",
       "                                                Name     Sex   Age  SibSp  \\\n",
       "0                            Braund, Mr. Owen Harris    male  22.0      1   \n",
       "1  Cumings, Mrs. John Bradley (Florence Briggs Th...  female  38.0      1   \n",
       "2                             Heikkinen, Miss. Laina  female  26.0      0   \n",
       "3       Futrelle, Mrs. Jacques Heath (Lily May Peel)  female  35.0      1   \n",
       "4                           Allen, Mr. William Henry    male  35.0      0   \n",
       "\n",
       "   Parch            Ticket     Fare Cabin Embarked  \n",
       "0      0         A/5 21171   7.2500   NaN        S  \n",
       "1      0          PC 17599  71.2833   C85        C  \n",
       "2      0  STON/O2. 3101282   7.9250   NaN        S  \n",
       "3      0            113803  53.1000  C123        S  \n",
       "4      0            373450   8.0500   NaN        S  "
      ]
     },
     "execution_count": 5,
     "metadata": {},
     "output_type": "execute_result"
    }
   ],
   "source": [
    "train_data.head()\n"
   ]
  },
  {
   "cell_type": "code",
   "execution_count": null,
   "id": "2f54bca0",
   "metadata": {
    "execution": {
     "iopub.execute_input": "2022-06-07T21:16:05.879616Z",
     "iopub.status.busy": "2022-06-07T21:16:05.878898Z",
     "iopub.status.idle": "2022-06-07T21:16:05.889724Z",
     "shell.execute_reply": "2022-06-07T21:16:05.888582Z",
     "shell.execute_reply.started": "2022-04-04T19:40:43.261692Z"
    },
    "papermill": {
     "duration": 0.030665,
     "end_time": "2022-06-07T21:16:05.890029",
     "exception": false,
     "start_time": "2022-06-07T21:16:05.859364",
     "status": "completed"
    },
    "tags": []
   },
   "outputs": [],
   "source": [
    "women = train_data.loc[train_data.Sex == 'female'][\"Survived\"]\n",
    "rate_women = sum(women)/len(women)\n",
    "\n",
    "print(\"% of women who survived:\", rate_women)"
   ]
  },
  {
   "cell_type": "code",
   "execution_count": null,
   "id": "12a07d69",
   "metadata": {
    "execution": {
     "iopub.execute_input": "2022-06-07T21:16:05.918763Z",
     "iopub.status.busy": "2022-06-07T21:16:05.917657Z",
     "iopub.status.idle": "2022-06-07T21:16:05.925458Z",
     "shell.execute_reply": "2022-06-07T21:16:05.926119Z",
     "shell.execute_reply.started": "2022-04-04T19:40:53.452367Z"
    },
    "papermill": {
     "duration": 0.023512,
     "end_time": "2022-06-07T21:16:05.926298",
     "exception": false,
     "start_time": "2022-06-07T21:16:05.902786",
     "status": "completed"
    },
    "tags": []
   },
   "outputs": [],
   "source": [
    "men = train_data.loc[train_data.Sex == 'male'][\"Survived\"]\n",
    "rate_men = sum(men)/len(men)\n",
    "\n",
    "print(\"% of men who survived:\", rate_men)"
   ]
  },
  {
   "cell_type": "code",
   "execution_count": null,
   "id": "5da86f85",
   "metadata": {
    "execution": {
     "iopub.execute_input": "2022-06-07T21:16:05.954600Z",
     "iopub.status.busy": "2022-06-07T21:16:05.953552Z",
     "iopub.status.idle": "2022-06-07T21:16:07.525263Z",
     "shell.execute_reply": "2022-06-07T21:16:07.525941Z",
     "shell.execute_reply.started": "2022-04-04T19:41:01.82291Z"
    },
    "papermill": {
     "duration": 1.587839,
     "end_time": "2022-06-07T21:16:07.526130",
     "exception": false,
     "start_time": "2022-06-07T21:16:05.938291",
     "status": "completed"
    },
    "tags": []
   },
   "outputs": [],
   "source": [
    "from sklearn.ensemble import RandomForestClassifier\n",
    "\n",
    "y = train_data[\"Survived\"]\n",
    "\n",
    "features = [\"Pclass\", \"Sex\", \"SibSp\", \"Parch\"]\n",
    "X = pd.get_dummies(train_data[features])\n",
    "X_test = pd.get_dummies(test_data[features])\n",
    "\n",
    "model = RandomForestClassifier(n_estimators=100, max_depth=5, random_state=1)\n",
    "model.fit(X, y)\n",
    "predictions = model.predict(X_test)\n",
    "\n",
    "output = pd.DataFrame({'PassengerId': test_data.PassengerId, 'Survived': predictions})\n",
    "output.to_csv('submission.csv', index=False)\n",
    "print(\"Your submission was successfully saved!\")"
   ]
  },
  {
   "cell_type": "code",
   "execution_count": null,
   "id": "bc631e1e",
   "metadata": {
    "execution": {
     "iopub.execute_input": "2022-06-07T21:16:07.558110Z",
     "iopub.status.busy": "2022-06-07T21:16:07.557134Z",
     "iopub.status.idle": "2022-06-07T21:16:07.560313Z",
     "shell.execute_reply": "2022-06-07T21:16:07.559738Z",
     "shell.execute_reply.started": "2022-04-04T19:41:07.929561Z"
    },
    "papermill": {
     "duration": 0.020248,
     "end_time": "2022-06-07T21:16:07.560460",
     "exception": false,
     "start_time": "2022-06-07T21:16:07.540212",
     "status": "completed"
    },
    "tags": []
   },
   "outputs": [],
   "source": [
    "predictions = [predictions]"
   ]
  },
  {
   "cell_type": "code",
   "execution_count": null,
   "id": "ec541ad3",
   "metadata": {
    "execution": {
     "iopub.execute_input": "2022-06-07T21:16:07.594677Z",
     "iopub.status.busy": "2022-06-07T21:16:07.593909Z",
     "iopub.status.idle": "2022-06-07T21:16:07.812706Z",
     "shell.execute_reply": "2022-06-07T21:16:07.812182Z",
     "shell.execute_reply.started": "2022-04-04T19:41:11.551131Z"
    },
    "papermill": {
     "duration": 0.239914,
     "end_time": "2022-06-07T21:16:07.812859",
     "exception": false,
     "start_time": "2022-06-07T21:16:07.572945",
     "status": "completed"
    },
    "tags": []
   },
   "outputs": [],
   "source": [
    "plt.hist(predictions)\n",
    "plt.show()\n"
   ]
  }
 ],
 "metadata": {
  "interpreter": {
   "hash": "ede3e8bae0a6851235d1c7ac60a6e9405a6a53aba61d2accae1bb9a005fb917c"
  },
  "kernelspec": {
   "display_name": "Python 3.9.11 ('ds')",
   "language": "python",
   "name": "python3"
  },
  "language_info": {
   "codemirror_mode": {
    "name": "ipython",
    "version": 3
   },
   "file_extension": ".py",
   "mimetype": "text/x-python",
   "name": "python",
   "nbconvert_exporter": "python",
   "pygments_lexer": "ipython3",
   "version": "3.9.11"
  },
  "papermill": {
   "default_parameters": {},
   "duration": 13.056495,
   "end_time": "2022-06-07T21:16:08.539660",
   "environment_variables": {},
   "exception": null,
   "input_path": "__notebook__.ipynb",
   "output_path": "__notebook__.ipynb",
   "parameters": {},
   "start_time": "2022-06-07T21:15:55.483165",
   "version": "2.3.3"
  }
 },
 "nbformat": 4,
 "nbformat_minor": 5
}
