{
 "cells": [
  {
   "cell_type": "code",
   "execution_count": 1,
   "id": "13fd5246",
   "metadata": {
    "_cell_guid": "b1076dfc-b9ad-4769-8c92-a6c4dae69d19",
    "_uuid": "8f2839f25d086af736a60e9eeb907d3b93b6e0e5",
    "execution": {
     "iopub.execute_input": "2022-06-07T21:16:05.718894Z",
     "iopub.status.busy": "2022-06-07T21:16:05.717601Z",
     "iopub.status.idle": "2022-06-07T21:16:05.731693Z",
     "shell.execute_reply": "2022-06-07T21:16:05.732255Z",
     "shell.execute_reply.started": "2022-04-04T19:40:34.778942Z"
    },
    "papermill": {
     "duration": 0.028891,
     "end_time": "2022-06-07T21:16:05.732577",
     "exception": false,
     "start_time": "2022-06-07T21:16:05.703686",
     "status": "completed"
    },
    "tags": []
   },
   "outputs": [],
   "source": [
    "# This Python 3 environment comes with many helpful analytics libraries installed\n",
    "# It is defined by the kaggle/python Docker image: https://github.com/kaggle/docker-python\n",
    "# For example, here's several helpful packages to load\n",
    "\n",
    "import numpy as np # linear algebra\n",
    "import pandas as pd # data processing, CSV file I/O (e.g. pd.read_csv)\n",
    "import matplotlib.pyplot as plt\n",
    "\n",
    "# Input data files are available in the read-only \"../input/\" directory\n",
    "# For example, running this (by clicking run or pressing Shift+Enter) will list all files under the input directory\n",
    "\n",
    "import os\n",
    "for dirname, _, filenames in os.walk('/kaggle/input'):\n",
    "    for filename in filenames:\n",
    "        print(os.path.join(dirname, filename))\n",
    "\n",
    "# You can write up to 20GB to the current directory (/kaggle/working/) that gets preserved as output when you create a version using \"Save & Run All\" \n",
    "# You can also write temporary files to /kaggle/temp/, but they won't be saved outside of the current session"
   ]
  },
  {
   "cell_type": "code",
   "execution_count": 2,
   "id": "4b918d9a",
   "metadata": {},
   "outputs": [],
   "source": [
    "import os\n",
    "import numpy as np\n",
    "import pandas as pd\n",
    "import matplotlib.pyplot as plt\n",
    "import seaborn as sns\n",
    "from sklearn.model_selection import train_test_split\n",
    "from xgboost import XGBClassifier\n",
    "from sklearn.model_selection import GridSearchCV"
   ]
  },
  {
   "cell_type": "code",
   "execution_count": 3,
   "id": "49e7785d",
   "metadata": {
    "execution": {
     "iopub.execute_input": "2022-06-07T21:16:05.758710Z",
     "iopub.status.busy": "2022-06-07T21:16:05.757899Z",
     "iopub.status.idle": "2022-06-07T21:16:05.793043Z",
     "shell.execute_reply": "2022-06-07T21:16:05.793544Z",
     "shell.execute_reply.started": "2022-04-04T19:40:37.43559Z"
    },
    "papermill": {
     "duration": 0.050514,
     "end_time": "2022-06-07T21:16:05.793725",
     "exception": false,
     "start_time": "2022-06-07T21:16:05.743211",
     "status": "completed"
    },
    "tags": []
   },
   "outputs": [],
   "source": [
    "# train_data = pd.read_csv(\"/kaggle/input/titanic/train.csv\")\n",
    "# test_data = pd.read_csv(\"/kaggle/input/titanic/test.csv\")\n",
    "\n",
    "train = pd.read_csv(\"/Users/ingluissantana/Desktop/Py/all_data/titanic_train.csv\")\n",
    "test = pd.read_csv(\"/Users/ingluissantana/Desktop/Py/all_data/titanic_test.csv\")\n",
    "\n"
   ]
  },
  {
   "cell_type": "code",
   "execution_count": null,
   "id": "63dc6fc2",
   "metadata": {},
   "outputs": [],
   "source": []
  }
 ],
 "metadata": {
  "interpreter": {
   "hash": "ede3e8bae0a6851235d1c7ac60a6e9405a6a53aba61d2accae1bb9a005fb917c"
  },
  "kernelspec": {
   "display_name": "Python 3.9.11 ('ds')",
   "language": "python",
   "name": "python3"
  },
  "language_info": {
   "codemirror_mode": {
    "name": "ipython",
    "version": 3
   },
   "file_extension": ".py",
   "mimetype": "text/x-python",
   "name": "python",
   "nbconvert_exporter": "python",
   "pygments_lexer": "ipython3",
   "version": "3.9.11"
  },
  "papermill": {
   "default_parameters": {},
   "duration": 13.056495,
   "end_time": "2022-06-07T21:16:08.539660",
   "environment_variables": {},
   "exception": null,
   "input_path": "__notebook__.ipynb",
   "output_path": "__notebook__.ipynb",
   "parameters": {},
   "start_time": "2022-06-07T21:15:55.483165",
   "version": "2.3.3"
  }
 },
 "nbformat": 4,
 "nbformat_minor": 5
}
